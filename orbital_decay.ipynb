{
  "nbformat": 4,
  "nbformat_minor": 0,
  "metadata": {
    "colab": {
      "name": "Copy of orbital decay.ipynb",
      "provenance": [],
      "collapsed_sections": [],
      "toc_visible": true
    },
    "kernelspec": {
      "name": "python3",
      "display_name": "Python 3"
    }
  },
  "cells": [
    {
      "cell_type": "code",
      "metadata": {
        "id": "u4PYIo_WXbQs",
        "colab_type": "code",
        "colab": {}
      },
      "source": [
        "!pip install emcee\n",
        "!pip install corner\n",
        "!pip install batman-package"
      ],
      "execution_count": 0,
      "outputs": []
    },
    {
      "cell_type": "markdown",
      "metadata": {
        "id": "Pij7VdfTrwGP",
        "colab_type": "text"
      },
      "source": [
        "# Read fits, plot data, determine period, find/mask transits, (try to) determine star rotation period:"
      ]
    },
    {
      "cell_type": "code",
      "metadata": {
        "id": "TWLv_EnarwPg",
        "colab_type": "code",
        "colab": {}
      },
      "source": [
        "import numpy as np\n",
        "from astropy.io import fits\n",
        "import lightkurve as lk\n",
        "import matplotlib.pyplot as plt\n",
        "from astropy.timeseries import BoxLeastSquares\n",
        "from scipy.signal import savgol_filter\n",
        "import exoplanet as xo\n",
        "import pymc3 as pm\n",
        "import theano.tensor as tt\n",
        "\n",
        "#261136679\n",
        "\n",
        "ID = 'TIC146264536'\n",
        "MISSION = 'TESS'\n",
        "\n",
        "#tpf_file = lk.search_lightcurvefile(\"TIC36734222\", mission=MISSION).download_all(download_dir=LK_CACHE_DIR)\n",
        "#tpf_file = lk.search_targetpixelfile(\"TIC 261136679\", sector = 1).download()\n",
        "\n",
        "#wasp-122\n",
        "#tpf_file = '/Users/ivshina/Desktop/tides/data/a_tess-s0007-3-1_108.301475_-42.409754_10x10_astrocut.fits'\n",
        "\n",
        "#wasp-12\n",
        "tpf_file = '/Users/ivshina/Desktop/tides/data/wasp12_6x6.fits'\n",
        "\n",
        "#with tpf_file.hdu as hdu:\n",
        "with fits.open(tpf_file, mode=\"readonly\") as hdu: \n",
        "    tpf = hdu[1].data\n",
        "    tpf_hdr = hdu[1].header\n",
        "\n",
        "texp = tpf_hdr[\"FRAMETIM\"] * tpf_hdr[\"NUM_FRM\"]\n",
        "texp /= 60.0 * 60.0 * 24.0\n",
        "time = tpf[\"TIME\"]\n",
        "flux = tpf[\"FLUX\"]\n",
        "m = np.any(np.isfinite(flux), axis=(1, 2)) & (tpf[\"QUALITY\"] == 0)\n",
        "ref_time = 0.5 * (np.min(time[m]) + np.max(time[m]))\n",
        "time = np.ascontiguousarray(time[m]) #- ref_time, dtype=np.float64)\n",
        "flux = np.ascontiguousarray(flux[m], dtype=np.float64)\n",
        "mean_img = np.median(flux, axis=0)\n",
        "#plt.imshow(mean_img.T, cmap=\"gray_r\")\n",
        "plt.title(\"TESS image of WASP-12\")\n",
        "plt.xticks([])\n",
        "plt.yticks([]);\n",
        "#plt.show()\n",
        "\n",
        "print('time shape ', time)\n",
        "#################################################################\n",
        "#Aperture selection\n",
        "\n",
        "# Sort pixels  \n",
        "order = np.argsort(mean_img.flatten())[::-1]\n",
        " \n",
        "# Estimate the windowed scatter in a lightcurve\n",
        "def estimate_scatter_with_mask(mask):\n",
        "    f = np.sum(flux[:, mask], axis=-1)\n",
        "    #smooth data\n",
        "    smooth = savgol_filter(f, 1001, polyorder=5)\n",
        "    return 1e6 * np.sqrt(np.median((f / smooth - 1) ** 2))\n",
        "\n",
        "\n",
        "# Loop over pixels ordered by brightness and add them one-by-one\n",
        "# to the aperture\n",
        "masks, scatters = [], []\n",
        "for i in range(10, 100):\n",
        "    msk = np.zeros_like(mean_img, dtype=bool)\n",
        "    msk[np.unravel_index(order[:i], mean_img.shape)] = True\n",
        "    scatter = estimate_scatter_with_mask(msk)\n",
        "    masks.append(msk)\n",
        "    scatters.append(scatter)\n",
        "\n",
        "# Choose the aperture that minimizes the scatter\n",
        "pix_mask = masks[np.argmin(scatters)]\n",
        " \n",
        "# Plot the selected aperture\n",
        "#plt.imshow(mean_img.T, cmap=\"gray_r\")\n",
        "#plt.imshow(pix_mask.T, cmap=\"Reds\", alpha=0.3)\n",
        "plt.title(\"selected aperture\")\n",
        "plt.xticks([])\n",
        "plt.yticks([]);\n",
        "#plt.show()\n",
        "\n",
        "\n",
        "#print('time shape', time.shape)\n",
        "#print('flux', flux[:, pix_mask].shape)\n",
        "plt.figure(figsize=(10, 5))\n",
        "sap_flux = np.sum(flux[:, pix_mask], axis=-1)\n",
        "#sap_flux = (sap_flux / np.median(sap_flux) - 1) * 1e3\n",
        "plt.plot(time, sap_flux, \"k\")\n",
        "plt.xlabel(\"time [days]\")\n",
        "plt.ylabel(\"relative flux [ppt]\")\n",
        "plt.title(\"raw light curve\")\n",
        "plt.xlim(time.min(), time.max());\n",
        "plt.show()\n",
        "\n",
        "# De-trending (systematic and random noise sources)\n",
        "\n",
        "# Build the first order PLD basis\n",
        "X_pld = np.reshape(flux[:, pix_mask], (len(flux), -1))\n",
        "X_pld = X_pld / np.sum(flux[:, pix_mask], axis=-1)[:, None]\n",
        "\n",
        "# Build the second order PLD basis and run PCA to reduce the number of dimensions\n",
        "X2_pld = np.reshape(X_pld[:, None, :] * X_pld[:, :, None], (len(flux), -1))\n",
        "U, _, _ = np.linalg.svd(X2_pld, full_matrices=False)\n",
        "X2_pld = U[:, : X_pld.shape[1]]\n",
        "\n",
        "# Construct the design matrix and fit for the PLD model\n",
        "X_pld = np.concatenate((np.ones((len(flux), 1)), X_pld, X2_pld), axis=-1)\n",
        "XTX = np.dot(X_pld.T, X_pld)\n",
        "w_pld = np.linalg.solve(XTX, np.dot(X_pld.T, sap_flux))\n",
        "pld_flux = np.dot(X_pld, w_pld)\n",
        "\n",
        "\n",
        "\n",
        "##############################################\n",
        "# Periodogram\n",
        "model = BoxLeastSquares(time, sap_flux - pld_flux)\n",
        "periodogram = model.autopower(0.2)\n",
        "plt.plot(periodogram.period, periodogram.power)  \n",
        "plt.xlabel(\"Period [day]\")\n",
        "plt.ylabel(\"Power\")\n",
        "plt.text(10,2117,\n",
        "    \"period = {0:.4f} d\".format(periodogram.period[np.argmax(periodogram.power)]))\n",
        "#print('Period:', periodogram.period[np.argmax(periodogram.power)])\n",
        "\n",
        " \n",
        "period_grid = np.exp(np.linspace(np.log(0.05), np.log(15), 50000))\n",
        "\n",
        "bls = BoxLeastSquares(time, sap_flux - pld_flux)\n",
        "bls_power = bls.power(period_grid, 0.02, oversample=20)\n",
        "plt.xlabel(\"time [days]\")\n",
        "plt.ylabel(\"de-trended flux [ppt]\")\n",
        "\n",
        "# Save the highest peak as the planet candidate\n",
        "index = np.argmax(bls_power.power)\n",
        "bls_period = bls_power.period[index]\n",
        "bls_t0 = bls_power.transit_time[index]\n",
        "print('t 0 ', bls_t0)\n",
        "bls_depth = bls_power.depth[index]\n",
        "transit_mask = bls.transit_mask(time, bls_period, 0.2, bls_t0)\n",
        "\n",
        "\n",
        "x = np.ascontiguousarray(time, dtype=np.float64)\n",
        "y = np.ascontiguousarray(sap_flux - pld_flux, dtype=np.float64) \n",
        " \n",
        "# Plot the folded transit\n",
        "#ax = axes[1]\n",
        "x_fold = (time - bls_t0 + 0.5 * bls_period) % bls_period - 0.5 * bls_period\n",
        "m = np.abs(x_fold) < 0.4\n",
        "not_transit = ~transit_mask\n",
        "\n",
        "# folded data with transit masked:\n",
        "total_mask = m & not_transit\n",
        "flux_masked = sap_flux[total_mask]\n",
        "time_masked = x_fold[total_mask]\n",
        "times_masked = time[total_mask] # times (not relative)\n",
        "# folded data with transit included:\n",
        "flux_folded = sap_flux[m]\n",
        "time_folded = x_fold[m]\n",
        "times = time[m]\n",
        "\n",
        " \n",
        "# save data\n",
        "np.savetxt('/Users/ivshina/Desktop/time_masked.txt', time_masked)\n",
        "np.savetxt('/Users/ivshina/Desktop/flux_masked.txt', flux_masked)\n",
        "np.savetxt('/Users/ivshina/Desktop/time_folded.txt', time_folded)\n",
        "np.savetxt('/Users/ivshina/Desktop/flux_folded.txt', flux_folded)\n",
        "\n",
        "flux_masked = np.loadtxt('/Users/ivshina/Desktop/tides/fitting_params/flux_masked.txt')\n",
        "time_masked = np.loadtxt('/Users/ivshina/Desktop/tides/fitting_params/time_masked.txt')\n",
        "flux_folded = np.loadtxt('/Users/ivshina/Desktop/tides/fitting_params/flux_folded.txt')\n",
        "time_folded = np.loadtxt('/Users/ivshina/Desktop/tides/fitting_params/time_folded.txt')\n",
        "\n",
        "fits = []\n",
        "transit_start_index = 0\n",
        "for i in range(flux_masked.shape[0]-20):\n",
        "    \n",
        "    if np.abs(time_masked[i]-time_masked[i+1])>0.6:\n",
        "        # folded flux with transit masked\n",
        "        tr_flux = flux_masked[transit_start_index:i]\n",
        "        tr_time = time_masked[transit_start_index:i]\n",
        "        # linear fit\n",
        "        k, b = np.polyfit(tr_time, tr_flux, deg=1)\n",
        "        fits.append([k,b])\n",
        "        transit_start_index = i+1\n",
        "\n",
        " \n",
        "\n",
        "tr_flux = flux_masked[transit_start_index:]\n",
        "tr_time = time_masked[transit_start_index:]\n",
        "# linear fit\n",
        "k, b = np.polyfit(tr_time, tr_flux, deg=1)\n",
        "fits.append([k,b])\n",
        "plt.plot(time[transit_mask], sap_flux[transit_mask], \".k\")\n",
        "plt.ylim(-30, 70)\n",
        "#plt.xlim(-0.3, 0.3)\n",
        "plt.ylabel(\"test de-trended flux [ppt]\")\n",
        "plt.show()\n",
        "print('number of transits: ', len(fits))  "
      ],
      "execution_count": 0,
      "outputs": []
    },
    {
      "cell_type": "markdown",
      "metadata": {
        "id": "TaAJA2AFsNUM",
        "colab_type": "text"
      },
      "source": [
        "# Find linear fit and de-trend each transit separately"
      ]
    },
    {
      "cell_type": "code",
      "metadata": {
        "id": "tFaw6mO8sNec",
        "colab_type": "code",
        "colab": {}
      },
      "source": [
        "import numpy as np\n",
        "from astropy.io import fits\n",
        "import lightkurve as lk\n",
        "import matplotlib.pyplot as plt\n",
        "from astropy.timeseries import BoxLeastSquares\n",
        "from scipy.signal import savgol_filter\n",
        "import exoplanet as xo\n",
        "import pymc3 as pm\n",
        "import theano.tensor as tt\n",
        "\n",
        "stds = []\n",
        "\n",
        "for i in range(21):\n",
        "    transit_masked = np.loadtxt('/Users/ivshina/Desktop/tides/wasp12_2min_cadence/transit_masked/flux/flux_%d.txt' % i)\n",
        "    time_masked = np.loadtxt('/Users/ivshina/Desktop/tides/wasp12_2min_cadence/transit_masked/time/time_%d.txt' % i)\n",
        "    transit = np.loadtxt('/Users/ivshina/Desktop/tides/wasp12_2min_cadence/transit/flux/flux_%d.txt' % i)\n",
        "    time = np.loadtxt('/Users/ivshina/Desktop/tides/wasp12_2min_cadence/transit/time/time_%d.txt' % i)    \n",
        "    # linear fit\n",
        "    k, b = np.polyfit(time_masked, transit_masked, deg=1)\n",
        "    fit = k*time+b\n",
        "    corrected_flux = transit/fit\n",
        "    fit_y = k*time_masked+b\n",
        "    y = transit_masked/fit_y\n",
        "    stds.append(np.std(y))\n",
        "    np.savetxt('/Users/ivshina/Desktop/tides/wasp12_2min_cadence/corrected_flux/corrected_flux_%d.txt' %i, corrected_flux)\n",
        "\n",
        "np.savetxt('/Users/ivshina/Desktop/stds.txt', np.array(stds))"
      ],
      "execution_count": 0,
      "outputs": []
    },
    {
      "cell_type": "markdown",
      "metadata": {
        "id": "XAhF7yDisVrL",
        "colab_type": "text"
      },
      "source": [
        "After masking the transits, in the file of folded data with transits included and in the file with transits excluded, separate the data into 1 file per transit"
      ]
    },
    {
      "cell_type": "code",
      "metadata": {
        "id": "LLs_sWtksY0Z",
        "colab_type": "code",
        "colab": {}
      },
      "source": [
        "import numpy as np\n",
        "from astropy.io import fits\n",
        "import lightkurve as lk\n",
        "import matplotlib.pyplot as plt\n",
        "from astropy.timeseries import BoxLeastSquares\n",
        "from scipy.signal import savgol_filter\n",
        "import exoplanet as xo\n",
        "\n",
        "\n",
        "\n",
        "times = np.loadtxt('/Users/ivshina/Desktop/wasp12_2min_cadence/transit_masked/time_masked.txt')\n",
        "time_folded = np.loadtxt('/Users/ivshina/Desktop/wasp12_2min_cadence/transit_masked/folded_time_masked.txt')\n",
        "flux = np.loadtxt('/Users/ivshina/Desktop/wasp12_2min_cadence/transit_masked/flux_masked.txt')\n",
        "\n",
        "indx = []\n",
        "indx.append(0)\n",
        "for i in range(1,time_folded.shape[0]):\n",
        "    if (time_folded[i] < 0 and time_folded[i-1] > 0):\n",
        "        indx.append(i)\n",
        "\n",
        "print(indx)\n",
        "\n",
        "\n",
        "for i in range(len(indx)):\n",
        "    if indx[i] != 8704:\n",
        "        data_ = flux[indx[i]:indx[i+1]]\n",
        "        time_ = times[indx[i]:indx[i+1]]\n",
        "        np.savetxt('/Users/ivshina/Desktop/wasp12_2min_cadence/transit_masked/time/time_%d.txt' %i, time_)\n",
        "        np.savetxt('/Users/ivshina/Desktop/wasp12_2min_cadence/transit_masked/flux/flux_%d.txt' %i, data_)\n",
        "    else:\n",
        "        data_ = flux[indx[i]:]\n",
        "        time_ = times[indx[i]:]\n",
        "        np.savetxt('/Users/ivshina/Desktop/wasp12_2min_cadence/transit_masked/time/time_%d.txt' %i, time_)\n",
        "        np.savetxt('/Users/ivshina/Desktop/wasp12_2min_cadence/transit_masked/flux/flux_%d.txt' %i, data_)"
      ],
      "execution_count": 0,
      "outputs": []
    },
    {
      "cell_type": "markdown",
      "metadata": {
        "id": "0KVNdl3Qsbe0",
        "colab_type": "text"
      },
      "source": [
        "# Read 2-minute cadence TESS data and visualize it"
      ]
    },
    {
      "cell_type": "code",
      "metadata": {
        "id": "MwptlY8-sbqC",
        "colab_type": "code",
        "colab": {}
      },
      "source": [
        "import numpy as np\n",
        "from astropy.io import fits\n",
        "import lightkurve as lk\n",
        "import matplotlib.pyplot as plt\n",
        "from astropy.timeseries import BoxLeastSquares\n",
        "from scipy.signal import savgol_filter\n",
        "import exoplanet as xo\n",
        "import pymc3 as pm\n",
        "import theano.tensor as tt\n",
        "\n",
        "fits_file = '/Users/ivshina/Desktop/tides/tess2019357164649-s0020-0000000086396382-0165-s_lc.fits'\n",
        "\n",
        "#print(fits.info(fits_file))\n",
        "print(fits.getdata(fits_file, ext=1).columns)\n",
        "\n",
        "with fits.open(fits_file, mode=\"readonly\") as hdulist:\n",
        "    tess_bjds = hdulist[1].data['TIME']\n",
        "    sap_fluxes = hdulist[1].data['SAP_FLUX']\n",
        "    pdcsap_fluxes = hdulist[1].data['PDCSAP_FLUX']\n",
        "    print('Header:', hdulist[0].header)\n",
        "\n",
        "\n",
        "\n",
        "\n",
        "# Start figure and axis.\n",
        "fig, ax = plt.subplots()\n",
        "\n",
        "# Plot the timeseries in black circles.\n",
        "ax.plot(tess_bjds, pdcsap_fluxes, '.k')\n",
        "plt.xlabel('Time')\n",
        "plt.ylabel('Flux')\n",
        "plt.show()\n",
        "\n",
        "with fits.open(fits_file, mode=\"readonly\") as hdulist:\n",
        "    aperture = hdulist[2].data\n",
        "\n",
        "# Start figure and axis.\n",
        "fig, ax = plt.subplots()\n",
        "\n",
        "# Display the pixels as an image.\n",
        "cax = ax.imshow(aperture, cmap=plt.cm.YlGnBu_r, origin=\"lower\")\n",
        "\n",
        "# Add a color bar.\n",
        "cbar = fig.colorbar(cax)\n",
        "\n",
        "# Add a title to the plot.\n",
        "fig.suptitle(\"WASP-12b Aperture\")\n",
        "#plt.show()\n",
        "\n",
        "\n",
        "#wasp-12\n",
        "tpf_file = '/Users/ivshina/Desktop/tess2019357164649-s0020-0000000086396382-0165-s_lc.fits'\n",
        "time = tess_bjds\n",
        "\n",
        "m = np.isfinite(pdcsap_fluxes)\n",
        "time = np.ascontiguousarray(time[m])\n",
        "pdcsap_fluxes = np.ascontiguousarray(pdcsap_fluxes[m])\n",
        "#time  = [y for x in time.tolist() for y in x]\n",
        "#pdcsap_fluxes  = [y for x in pdcsap_fluxes.tolist() for y in x]\n",
        "print(time.tolist()[:200])#pdcsap_fluxes[:200])\n",
        "\n",
        "##############################################\n",
        "# Periodogram\n",
        "model = BoxLeastSquares(time, pdcsap_fluxes)\n",
        "periodogram = model.autopower(0.2)\n",
        "plt.plot(periodogram.period, periodogram.power)  \n",
        "plt.xlabel(\"Period [day]\")\n",
        "plt.ylabel(\"Power\")\n",
        "plt.text(10,2117,\n",
        "    \"period = {0:.4f} d\".format(periodogram.period[np.argmax(periodogram.power)]))\n",
        "#print('Period:', periodogram.period[np.argmax(periodogram.power)])\n",
        "\n",
        " \n",
        "####\n",
        "period_grid = np.exp(np.linspace(np.log(0.05), np.log(15), 50000))\n",
        "\n",
        "bls = BoxLeastSquares(time, pdcsap_fluxes)\n",
        "bls_power = bls.power(period_grid, 0.02, oversample=20)\n",
        "plt.xlabel(\"time [days]\")\n",
        "plt.ylabel(\"de-trended flux [ppt]\")\n",
        "\n",
        "# Save the highest peak as the planet candidate\n",
        "index = np.argmax(bls_power.power)\n",
        "bls_period = bls_power.period[index]\n",
        "bls_t0 = bls_power.transit_time[index]\n",
        "print('t 0 ', bls_t0)\n",
        "bls_depth = bls_power.depth[index]\n",
        "transit_mask = bls.transit_mask(time, bls_period, 0.2, bls_t0)\n",
        "\n",
        "\n",
        "x = np.ascontiguousarray(time, dtype=np.float64)\n",
        "y = np.ascontiguousarray(pdcsap_fluxes, dtype=np.float64) \n",
        " \n",
        "# Plot the folded transit\n",
        "#ax = axes[1]\n",
        "x_fold = (time - bls_t0 + 0.5 * bls_period) % bls_period - 0.5 * bls_period\n",
        "m = np.abs(x_fold) < 0.4\n",
        "not_transit = ~transit_mask\n",
        "\n",
        "# folded data with transit masked:\n",
        "total_mask = m & not_transit\n",
        "flux_masked = pdcsap_fluxes[total_mask]\n",
        "time_masked = x_fold[total_mask]\n",
        "times_masked = time[total_mask] # times (not relative)\n",
        "# folded data with transit included:\n",
        "flux_folded = pdcsap_fluxes[m]\n",
        "time_folded = x_fold[m]\n",
        "times = time[m]\n",
        "'''\n",
        "np.savetxt('/Users/ivshina/Desktop/times.txt', times)\n",
        "np.savetxt('/Users/ivshina/Desktop/flux.txt', flux_folded)\n",
        "np.savetxt('/Users/ivshina/Desktop/time_folded.txt', time_folded)\n",
        "\n",
        "# save data\n",
        "np.savetxt('/Users/ivshina/Desktop/folded_time_masked.txt', time_masked)\n",
        "np.savetxt('/Users/ivshina/Desktop/time_masked.txt', times_masked)\n",
        "np.savetxt('/Users/ivshina/Desktop/flux_masked.txt', flux_masked)\n",
        "#np.savetxt('/Users/ivshina/Desktop/time_masked.txt', time_masked)\n",
        "#np.savetxt('/Users/ivshina/Desktop/flux_masked.txt', flux_masked)\n",
        "#np.savetxt('/Users/ivshina/Desktop/time_folded.txt', time_folded)\n",
        "#np.savetxt('/Users/ivshina/Desktop/flux_folded.txt', flux_folded)\n",
        "\n",
        "#flux_masked = np.loadtxt('/Users/ivshina/Desktop/flux_masked.txt')\n",
        "#time_masked = np.loadtxt('/Users/ivshina/Desktop/time_masked.txt')\n",
        "#flux_folded = np.loadtxt('/Users/ivshina/Desktop/flux_folded.txt')\n",
        "#time_folded = np.loadtxt('/Users/ivshina/Desktop/time_folded.txt')\n",
        "'''"
      ],
      "execution_count": 0,
      "outputs": []
    },
    {
      "cell_type": "markdown",
      "metadata": {
        "id": "yzYZFJ579Ss3",
        "colab_type": "text"
      },
      "source": [
        "# Fit transit model, produce light curves, determine mid-transit times:"
      ]
    },
    {
      "cell_type": "code",
      "metadata": {
        "id": "hjxC2MSq9WvP",
        "colab_type": "code",
        "colab": {}
      },
      "source": [
        "import numpy as np\n",
        "import matplotlib.pyplot as plt\n",
        "from mpl_toolkits.axes_grid.anchored_artists import AnchoredText\n",
        "from scipy.stats import binned_statistic\n",
        "import batman\n",
        "import emcee\n",
        "import corner\n",
        "import os, sys, time\n",
        "import pandas as pd"
      ],
      "execution_count": 0,
      "outputs": []
    },
    {
      "cell_type": "code",
      "metadata": {
        "id": "AydlEPSu9e4J",
        "colab_type": "code",
        "colab": {}
      },
      "source": [
        "# Exoplanetary system parameters\n",
        "targ_name = 'WASP-43b'\n",
        "per_i = 0.813475 # period (days) \n",
        "\n",
        "rp_i = 0.1787 # Rp/R* (planet's radius in terms of stellar radii)\n",
        "a_i = 5.48727 #(semi-major axis in terms of stellar radii)\n",
        "b_i = 0.5 # impact parameter\n",
        "\n",
        "u1 = 0.5\t# Limb Darkening coefficient 1\n",
        "u2 = 0.1144 # Limb Darkening coefficient 2\n",
        "\n",
        "# MCMC parameters\n",
        "nsteps = 20000\n",
        "burn_in = 1000\n",
        "ndim = 4\n",
        "nwalkers = 100"
      ],
      "execution_count": 0,
      "outputs": []
    },
    {
      "cell_type": "code",
      "metadata": {
        "id": "Ow_HXc9j9iIW",
        "colab_type": "code",
        "colab": {}
      },
      "source": [
        "# Priors.\n",
        "def lnprior(theta, t0_i):\n",
        "\tt0, rp, a, b = theta\n",
        "\tif (t0_i-1 < t0 < t0_i+1) \\\n",
        "\tand (0. < rp) \\\n",
        "\tand (b < a) \\\n",
        "\tand (0. <= b < 1.):\n",
        "\t\treturn 0\n",
        "\treturn -np.inf\n",
        "\n",
        "\n",
        "def lnlike(theta, x, y, sigma, per=per_i):\n",
        "  t0, rp, a, b = theta\n",
        "  # From Claret et al. 2012/13\n",
        "  u1 = 0.5\t# Limb Darkening coefficient 1\n",
        "  u2 = 0.1144 # Limb Darkening coefficient 2\n",
        "  # Set up transit parameters.\n",
        "  params = batman.TransitParams()\n",
        "  params.t0 = t0\n",
        "  params.per = per\n",
        "  params.rp = rp\n",
        "  params.a = a\n",
        "  params.inc = 82\n",
        "  params.ecc = 0.0092\n",
        "  params.w = 96\n",
        "  params.u = [u1, u2]\n",
        "  params.limb_dark = 'quadratic'\n",
        "  # Initialize the transit model.\n",
        "  m_init = batman.TransitModel(params, x)\n",
        "  model = m_init.light_curve(params)  \n",
        "  inv_sigma2 = 1.0 / (sigma**2)\n",
        "  return -0.5*(np.sum((y-model)**2*inv_sigma2))\n",
        "\t\n",
        " \n",
        "\n",
        "# Define log of probability function.\n",
        "def lnprob(theta, x, y, t0_i, sigma):\n",
        "  lp = lnprior(theta, t0_i)\n",
        "  if not np.isfinite(lp):\n",
        "    return -np.inf\n",
        "  return lp + lnlike(theta, x, y, sigma)"
      ],
      "execution_count": 0,
      "outputs": []
    },
    {
      "cell_type": "code",
      "metadata": {
        "id": "oivOFJrI9kmP",
        "colab_type": "code",
        "colab": {}
      },
      "source": [
        "t0s = []\n",
        "t0s_best = []\n",
        "stds = np.loadtxt('stds.txt')\n",
        "\n",
        "for i in range(1,27):\n",
        "    print('transit # ', i)\n",
        "    times = np.loadtxt('time/time_%d.txt' % i)\n",
        "    fluxes = np.loadtxt('corrected_flux/corrected_flux_%d.txt' % i)\n",
        "    data = pd.read_csv('corrected_flux/corrected_flux_%d.txt' % i, sep=\" \", header=None)\n",
        "    idx = data.idxmin()\n",
        "    t0_i = times[idx][0]\n",
        "    print('initial t0: ', t0_i)\n",
        "    sigma = stds[i]\n",
        "    print(t0_i) \n",
        "\n",
        "\n",
        "    initial_params = t0_i, rp_i, a_i, b_i \n",
        "\n",
        "    # Initialize walkers around maximum likelihood.\n",
        "    pos = [initial_params + 1e-5*np.random.randn(ndim) for i in range(nwalkers)]\n",
        "\n",
        "    # Set up sampler.\n",
        "    sampler = emcee.EnsembleSampler(nwalkers, ndim, lnprob, args=(np.array(times), np.array(fluxes), t0_i, sigma))\n",
        "\n",
        "    # Run MCMC for n steps and display progress bar.\n",
        "    width = 50\n",
        "    for m, result in enumerate(sampler.sample(pos, iterations=nsteps)):\n",
        "    \tn = int((width+1) * float(m) / nsteps)\n",
        "    \tsys.stdout.write(\"\\r{}[{}{}]{}\".format('sampling... ', '#' * n, ' ' * (width - n), ' (%s%%)' % str(100. * float(m) / nsteps)))\n",
        "    sys.stdout.write(\"\\n\")\n",
        "    print ('Sampling complete!')\n",
        "\n",
        "    samples = sampler.chain\n",
        " \n",
        "    # Discard burn-in. \n",
        "    samples = samples[:, burn_in:, :].reshape((-1, ndim))\n",
        "\n",
        "    # Final params and uncertainties based on the 16th, 50th, and 84th percentiles of the samples in the marginalized distributions.\n",
        "    t0_mcmc, rp_mcmc, a_mcmc, b_mcmc = map(\n",
        "\t    lambda v: (v[1], v[2]-v[1], v[1]-v[0]), zip(*np.percentile(samples, [16, 50, 84], axis=0)))\n",
        "     \n",
        "    t0s.append([round(t0_mcmc[0],4),round(t0_mcmc[1],4), round(t0_mcmc[2],4)])\n",
        "    np.savetxt('t0s.txt', np.array(t0s))\n",
        "\n",
        "    samples = sampler.flatchain\n",
        "    theta_max  = samples[np.argmax(sampler.flatlnprobability)]\n",
        "    t0s_best.append(theta_max[0])\n",
        "    np.savetxt('t0s_best.txt', np.array(t0s_best))\n",
        "    print('radius: ', rp_mcmc)\n",
        "    print('best radius: ', theta_max[1])\n",
        "    # Plot the final transit model.\n",
        "    # create array for flux uncertanties\n",
        "    ferr = []\n",
        "    for k in range(times.shape[0]):\n",
        "\t    ferr.append(stds[i])\n",
        "    ferr = np.asarray(ferr)\n",
        "\n",
        "    params_final = batman.TransitParams()\n",
        "    params_final.t0 = theta_max[0]\n",
        "    params_final.per = per_i\n",
        "    params_final.rp = theta_max[1]\n",
        "    params_final.a = theta_max[2]\n",
        "    params_final.inc = np.arccos(theta_max[3] / theta_max[2]) * (180. / np.pi)\n",
        "    params_final.ecc = 0.0092\n",
        "    params_final.w = 96\n",
        "    params_final.u = [u1, u2]\n",
        "    params_final.limb_dark = \"quadratic\"\n",
        "    tl = np.linspace(min(times),max(times),5000)\n",
        "    m = batman.TransitModel(params_final, tl)\n",
        "    f_final = m.light_curve(params_final)\n",
        "    final_fig, ax = plt.subplots(figsize=(10,8))\n",
        "    ax.set_title(targ_name)\n",
        "    ax.errorbar(times,fluxes,yerr=ferr,fmt='k.',capsize=0,alpha=0.4,zorder=1)\n",
        "    ax.plot(tl, f_final, 'r-',alpha=0.8,lw=3,zorder=2)\n",
        "    if annotate_plot == True:\n",
        "    \tant = AnchoredText('$T_0 = %s^{+%s}_{-%s}$ \\n $R_p/R = %s^{+%s}_{-%s}$' % (round(t0_mcmc[0],4),round(t0_mcmc[1],4),\n",
        "    \tround(t0_mcmc[2],4),round(rp_mcmc[0],4),round(rp_mcmc[1],4),round(rp_mcmc[2],4)), prop=dict(size=11), frameon=True, loc=3)\n",
        "    \tant.patch.set_boxstyle('round,pad=0.,rounding_size=0.2')\n",
        "    \tax.add_artist(ant)\n",
        "    ax.set_xlabel(\"Time\")\n",
        "    ax.set_ylabel(\"Relative Flux\")\n",
        "    ax.legend(('BATMAN','TESS'), loc=2)\n",
        "     \n",
        "    if save_results == True:\n",
        "        save_to = 'wasp43_figures'\n",
        "        final_fig.savefig('wasp43_figures/MCMCfit%d.png' %i, bbox_inches='tight')"
      ],
      "execution_count": 0,
      "outputs": []
    },
    {
      "cell_type": "markdown",
      "metadata": {
        "id": "jIfFKp8Wj5Ra",
        "colab_type": "text"
      },
      "source": [
        "# Fit constant period model to the data to determine orbital period"
      ]
    },
    {
      "cell_type": "code",
      "metadata": {
        "id": "z_yWw4hyX4Sf",
        "colab_type": "code",
        "colab": {}
      },
      "source": [
        "import numpy as np\n",
        "import matplotlib.pyplot as plt\n",
        "from mpl_toolkits.axes_grid.anchored_artists import AnchoredText\n",
        "from scipy.stats import binned_statistic\n",
        "import batman\n",
        "import emcee\n",
        "import corner\n",
        "import os, sys, time\n",
        "import pandas as pd"
      ],
      "execution_count": 0,
      "outputs": []
    },
    {
      "cell_type": "code",
      "metadata": {
        "id": "vMAivQomg--i",
        "colab_type": "code",
        "colab": {}
      },
      "source": [
        "data = pd.read_csv('wasp18_data.csv')"
      ],
      "execution_count": 0,
      "outputs": []
    },
    {
      "cell_type": "code",
      "metadata": {
        "id": "jZkYax79huoM",
        "colab_type": "code",
        "colab": {}
      },
      "source": [
        "data"
      ],
      "execution_count": 0,
      "outputs": []
    },
    {
      "cell_type": "code",
      "metadata": {
        "id": "j4xztxlShW9L",
        "colab_type": "code",
        "colab": {}
      },
      "source": [
        "x = data.iloc[:,0].to_numpy()\n",
        "y = data.iloc[:,1].to_numpy()"
      ],
      "execution_count": 0,
      "outputs": []
    },
    {
      "cell_type": "code",
      "metadata": {
        "id": "epj4-53kYCgt",
        "colab_type": "code",
        "colab": {}
      },
      "source": [
        "targ_name = 'WASP-43b'\n",
        "\n",
        "# MCMC parameters\n",
        "nsteps = 100000\n",
        "burn_in = 10000\n",
        "ndim = 1\n",
        "nwalkers = 100"
      ],
      "execution_count": 0,
      "outputs": []
    },
    {
      "cell_type": "code",
      "metadata": {
        "id": "_FE7KvMwdQTH",
        "colab_type": "code",
        "colab": {}
      },
      "source": [
        "# Priors.\n",
        "def lnprior(theta): \n",
        "\tper = theta\n",
        "\tif (0. < per < 2) :\n",
        "\t\treturn 0\n",
        "\treturn -np.inf"
      ],
      "execution_count": 0,
      "outputs": []
    },
    {
      "cell_type": "code",
      "metadata": {
        "id": "LFntMCUvZSeC",
        "colab_type": "code",
        "colab": {}
      },
      "source": [
        "def lnlike(theta, x, y, t0, sigma):\n",
        "  per  = theta   \n",
        "  model = t0 + x*per  \n",
        "  inv_sigma2 = 1.0 / (sigma**2)\n",
        "  return -0.5*(np.sum((y-model)**2*inv_sigma2))\n",
        "\n",
        "# Define log of probability function.\n",
        "def lnprob(theta, x, y, t0, sigma):\n",
        "  lp = lnprior(theta)\n",
        "  if not np.isfinite(lp):\n",
        "    return -np.inf\n",
        "  return lp + lnlike(theta, x, y, t0, sigma)"
      ],
      "execution_count": 0,
      "outputs": []
    },
    {
      "cell_type": "code",
      "metadata": {
        "id": "tA9xlsQDZhFJ",
        "colab_type": "code",
        "outputId": "7e453cf6-e068-42ef-be77-5eede1db3734",
        "colab": {
          "base_uri": "https://localhost:8080/",
          "height": 51
        }
      },
      "source": [
        "t0 = 2456728.74251\n",
        "per_i = 0.813475\n",
        "sigma = 0.000721\n",
        "\n",
        "initial_params = per_i \n",
        "\n",
        "# Initialize walkers around maximum likelihood.\n",
        "pos = [initial_params + 1e-5*np.random.randn(ndim) for i in range(nwalkers)]\n",
        "\n",
        "# Set up sampler.\n",
        "sampler = emcee.EnsembleSampler(nwalkers, ndim, lnprob, args=(x, y, t0, sigma))\n",
        "\n",
        "# Run MCMC for n steps and display progress bar.\n",
        "width = 50\n",
        "for i, result in enumerate(sampler.sample(pos, iterations=nsteps)):\n",
        "    n = int((width+1) * float(i) / nsteps)\n",
        "    sys.stdout.write(\"\\r{}[{}{}]{}\".format('sampling... ', '#' * n, ' ' * (width - n), ' (%s%%)' % str(100. * float(i) / nsteps)))\n",
        "sys.stdout.write(\"\\n\")\n",
        "print ('Sampling complete!')"
      ],
      "execution_count": 0,
      "outputs": [
        {
          "output_type": "stream",
          "text": [
            "sampling... [##################################################] (99.999%)\n",
            "Sampling complete!\n"
          ],
          "name": "stdout"
        }
      ]
    },
    {
      "cell_type": "code",
      "metadata": {
        "id": "BtmX9TA61bpH",
        "colab_type": "code",
        "colab": {}
      },
      "source": [
        "samples = sampler.flatchain\n",
        "\n",
        "theta_max  = samples[np.argmax(sampler.flatlnprobability)]"
      ],
      "execution_count": 0,
      "outputs": []
    },
    {
      "cell_type": "code",
      "metadata": {
        "id": "plnOsJa01eU6",
        "colab_type": "code",
        "outputId": "6175e8d9-28bf-4a15-af83-268524e1ba54",
        "colab": {
          "base_uri": "https://localhost:8080/",
          "height": 34
        }
      },
      "source": [
        "theta_max"
      ],
      "execution_count": 0,
      "outputs": [
        {
          "output_type": "execute_result",
          "data": {
            "text/plain": [
              "array([0.81383519])"
            ]
          },
          "metadata": {
            "tags": []
          },
          "execution_count": 31
        }
      ]
    },
    {
      "cell_type": "markdown",
      "metadata": {
        "id": "J3fLE61hj7wf",
        "colab_type": "text"
      },
      "source": [
        "# Fit decaying orbit model to detect how period changes with epoch number"
      ]
    },
    {
      "cell_type": "code",
      "metadata": {
        "id": "D6guGxDrsM6b",
        "colab_type": "code",
        "colab": {}
      },
      "source": [
        "targ_name = 'WASP-18b' \n",
        " \n",
        "# MCMC parameters\n",
        "nsteps = 100000\n",
        "burn_in = 20000\n",
        "ndim = 2\n",
        "nwalkers = 100"
      ],
      "execution_count": 0,
      "outputs": []
    },
    {
      "cell_type": "code",
      "metadata": {
        "id": "Fok7ESkAj-M1",
        "colab_type": "code",
        "colab": {}
      },
      "source": [
        "# Priors.\n",
        "def lnprior(theta): \n",
        "\tper, dpdt = theta\n",
        "\tif (0. < per < 2) and (0. > dpdt > -0.0005) :\n",
        "\t\treturn 0\n",
        "\treturn -np.inf"
      ],
      "execution_count": 0,
      "outputs": []
    },
    {
      "cell_type": "code",
      "metadata": {
        "id": "n2fU40MVkEyu",
        "colab_type": "code",
        "colab": {}
      },
      "source": [
        "def lnlike(theta, x, y, t0, sigma):\n",
        "  per, dpdt  = theta   \n",
        "  model = t0 + x*per + 0.5*x*x*dpdt\n",
        "  inv_sigma2 = 1.0 / (sigma**2)\n",
        "  return -0.5*(np.sum((y-model)**2*inv_sigma2))\n",
        "\n",
        "# Define log of probability function.\n",
        "def lnprob(theta, x, y, t0, sigma):\n",
        "  lp = lnprior(theta)\n",
        "  if not np.isfinite(lp):\n",
        "    return -np.inf\n",
        "  return lp + lnlike(theta, x, y, t0, sigma)"
      ],
      "execution_count": 0,
      "outputs": []
    },
    {
      "cell_type": "code",
      "metadata": {
        "id": "ee4gYiSikJBC",
        "colab_type": "code",
        "outputId": "8d25c6d8-6639-4cc0-958d-94fc08b3964c",
        "colab": {
          "base_uri": "https://localhost:8080/",
          "height": 139
        }
      },
      "source": [
        "# wasp-43\n",
        "t0 = 2458366.69709000000\n",
        "per_i = 0.94145299 \n",
        "sigma = 0.000721\n",
        "dpdt_i = 0\n",
        "\n",
        "# wasp-19\n",
        "#t0 = 2456021.70374\n",
        "#per_i = 0.7888399\n",
        "#dpdt_i = 0\n",
        "#sigma = 0.00065836\n",
        "\n",
        "initial_params = per_i, dpdt_i \n",
        "\n",
        "# Initialize walkers around maximum likelihood.\n",
        "pos = [initial_params + 1e-5*np.random.randn(ndim) for i in range(nwalkers)]\n",
        "\n",
        "# Set up sampler.\n",
        "sampler = emcee.EnsembleSampler(nwalkers, ndim, lnprob, args=(x, y, t0, sigma))\n",
        "\n",
        "# Run MCMC for n steps and display progress bar.\n",
        "width = 50\n",
        "for i, result in enumerate(sampler.sample(pos, iterations=nsteps)):\n",
        "    n = int((width+1) * float(i) / nsteps)\n",
        "    sys.stdout.write(\"\\r{}[{}{}]{}\".format('sampling... ', '#' * n, ' ' * (width - n), ' (%s%%)' % str(100. * float(i) / nsteps)))\n",
        "sys.stdout.write(\"\\n\")\n",
        "print ('Sampling complete!')\n",
        "\n",
        "samples = sampler.chain\n",
        " \n",
        "# Discard burn-in. \n",
        "samples = samples[:, burn_in:, :].reshape((-1, ndim))\n",
        "\n",
        "# Final params and uncertainties based on the 16th, 50th, and 84th percentiles of the samples in the marginalized distributions.\n",
        "per_mcmc, dpdt_mcmc = map(\n",
        "\tlambda v: (v[1], v[2]-v[1], v[1]-v[0]), zip(*np.percentile(samples, [16, 50, 84], axis=0)))\n",
        "    \n",
        "print('Period: ' ,per_mcmc[0], per_mcmc[1])\n",
        "print('dP/dt: ',  dpdt_mcmc[0],  dpdt_mcmc[1])"
      ],
      "execution_count": 0,
      "outputs": [
        {
          "output_type": "stream",
          "text": [
            "/usr/local/lib/python3.6/dist-packages/emcee/moves/red_blue.py:99: RuntimeWarning: invalid value encountered in double_scalars\n",
            "  lnpdiff = f + nlp - state.log_prob[j]\n"
          ],
          "name": "stderr"
        },
        {
          "output_type": "stream",
          "text": [
            "sampling... [##################################################] (99.999%)\n",
            "Sampling complete!\n",
            "Period:  0.9414512381999057 1.313257127488754e-07\n",
            "dP/dt:  -5.780839285423718e-10 4.191861467623709e-11\n"
          ],
          "name": "stdout"
        }
      ]
    },
    {
      "cell_type": "code",
      "metadata": {
        "id": "SIVPtbbiTHnt",
        "colab_type": "code",
        "colab": {}
      },
      "source": [
        "samples = sampler.flatchain\n",
        "\n",
        "theta_max  = samples[np.argmax(sampler.flatlnprobability)]"
      ],
      "execution_count": 0,
      "outputs": []
    },
    {
      "cell_type": "code",
      "metadata": {
        "id": "2OJvPqmQTJrt",
        "colab_type": "code",
        "outputId": "fc88e055-b357-47e5-839e-8cbeaae3ffbd",
        "colab": {
          "base_uri": "https://localhost:8080/",
          "height": 34
        }
      },
      "source": [
        "theta_max"
      ],
      "execution_count": 0,
      "outputs": [
        {
          "output_type": "execute_result",
          "data": {
            "text/plain": [
              "array([ 8.13835193e-01, -6.69906994e-17])"
            ]
          },
          "metadata": {
            "tags": []
          },
          "execution_count": 37
        }
      ]
    },
    {
      "cell_type": "code",
      "metadata": {
        "id": "XkKwpHiCUDnd",
        "colab_type": "code",
        "colab": {}
      },
      "source": [
        "def model(theta, x=x, t0=t0):\n",
        "  per, dpdt  = theta   \n",
        "  model = t0 + x*per + 0.5*per*x*x*dpdt\n",
        "  return model"
      ],
      "execution_count": 0,
      "outputs": []
    },
    {
      "cell_type": "code",
      "metadata": {
        "id": "1xXm36jBTfbn",
        "colab_type": "code",
        "colab": {}
      },
      "source": [
        "def sample_walkers(nsamples,flattened_chain, y):\n",
        "    models = []\n",
        "    draw = np.floor(np.random.uniform(0,len(flattened_chain),size=nsamples)).astype(int)\n",
        "    thetas = flattened_chain[draw]\n",
        "    for i in thetas:\n",
        "        mod = y-model(i)\n",
        "        plt.plot(x, mod)\n",
        "        plt.show()\n",
        "        models.append(mod)\n",
        "    spread = np.std(models,axis=0)\n",
        "    med_model = np.median(models,axis=0)\n",
        "    return med_model,spread\n",
        "med_model, spread = sample_walkers(10, samples, y)"
      ],
      "execution_count": 0,
      "outputs": []
    },
    {
      "cell_type": "code",
      "metadata": {
        "id": "ZgNN5T_-UC_O",
        "colab_type": "code",
        "colab": {}
      },
      "source": [
        "new_best_fit_model = model(theta_max)"
      ],
      "execution_count": 0,
      "outputs": []
    }
  ]
}